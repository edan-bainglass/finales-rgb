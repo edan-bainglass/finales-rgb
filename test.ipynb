{
 "cells": [
  {
   "cell_type": "code",
   "execution_count": 29,
   "id": "a6af2804-9016-4438-8edd-6a87c6c1f328",
   "metadata": {},
   "outputs": [],
   "source": [
    "import requests"
   ]
  },
  {
   "cell_type": "code",
   "execution_count": 30,
   "id": "6c83ba82",
   "metadata": {},
   "outputs": [],
   "source": [
    "FINALES = \"http://127.0.0.1:13371\"\n",
    "USERNAME = \"dummy\"\n",
    "PASSWORD = \"password\""
   ]
  },
  {
   "cell_type": "markdown",
   "id": "b3d51a20",
   "metadata": {},
   "source": [
    "# Authenticate user"
   ]
  },
  {
   "cell_type": "code",
   "execution_count": 31,
   "id": "4c7f645a",
   "metadata": {},
   "outputs": [],
   "source": [
    "response = requests.post(\n",
    "    f\"{FINALES}/user_management/authenticate\",\n",
    "    data={\n",
    "        \"grant_type\": \"password\",\n",
    "        \"username\": USERNAME,\n",
    "        \"password\": PASSWORD,\n",
    "        \"scope\": \"\",\n",
    "        \"client_id\": \"string\",\n",
    "        \"client_secret\": \"string\",\n",
    "    },\n",
    "    headers={\n",
    "        \"accept\": \"application/json\",\n",
    "        \"Content-Type\": \"application/x-www-form-urlencoded\",\n",
    "    },\n",
    ")\n",
    "\n",
    "if not response.ok:\n",
    "    raise requests.exceptions.HTTPError(f\"Failed to authenticate: {response.text}\")\n",
    "\n",
    "data: dict[str, str] = response.json()\n",
    "\n",
    "headers = {\n",
    "    \"accept\": \"application/json\",\n",
    "    \"Content-Type\": \"application/x-www-form-urlencoded\",\n",
    "    \"Authorization\": \"{} {}\".format(\n",
    "        data[\"token_type\"].capitalize(),\n",
    "        data[\"access_token\"],\n",
    "    ),\n",
    "}"
   ]
  },
  {
   "cell_type": "markdown",
   "id": "71407c6c",
   "metadata": {},
   "source": [
    "# Check FINALES capabilities"
   ]
  },
  {
   "cell_type": "code",
   "execution_count": 33,
   "id": "a8e3a90f",
   "metadata": {},
   "outputs": [
    {
     "data": {
      "text/plain": [
       "True"
      ]
     },
     "execution_count": 33,
     "metadata": {},
     "output_type": "execute_result"
    }
   ],
   "source": [
    "response = requests.get(\n",
    "    f\"{FINALES}/capabilities\",\n",
    "    headers=headers,\n",
    ")\n",
    "\n",
    "response.ok"
   ]
  },
  {
   "cell_type": "markdown",
   "id": "8d066b4d",
   "metadata": {},
   "source": [
    "# Test measurement tenant"
   ]
  },
  {
   "cell_type": "code",
   "execution_count": 36,
   "id": "7c996f66",
   "metadata": {},
   "outputs": [
    {
     "name": "stdout",
     "output_type": "stream",
     "text": [
      "{'detail': [{'type': 'model_attributes_type', 'loc': ['body'], 'msg': 'Input should be a valid dictionary or object to extract fields from', 'input': '{\"quantity\": \"RGB-measurement\", \"methods\": [\"RGB-simulation\"], \"parameters\": {\"RGB-simulation\": {\"R\": 30, \"G\": 100, \"B\": 80, \"warmup_time\": 1}}, \"tenant_uuid\": \"\"}'}]}\n"
     ]
    }
   ],
   "source": [
    "import time\n",
    "\n",
    "\n",
    "response = requests.post(\n",
    "    f\"{FINALES}/requests\",\n",
    "    json={\n",
    "        \"quantity\": \"RGB-measurement\",\n",
    "        \"methods\": [\n",
    "            \"RGB-simulation\",\n",
    "        ],\n",
    "        \"parameters\": {\n",
    "            \"RGB-simulation\": {\n",
    "                \"R\": 30,\n",
    "                \"G\": 100,\n",
    "                \"B\": 80,\n",
    "                \"warmup_time\": 1,\n",
    "            }\n",
    "        },\n",
    "        \"tenant_uuid\": \"\",\n",
    "    },\n",
    "    headers=headers,\n",
    ")\n",
    "\n",
    "print(response.json())\n",
    "\n",
    "# while True:\n",
    "#     response = requests.get(f\"{FINALES}/requests/{request_id}\", headers=headers)\n",
    "\n",
    "#     if response.json()[\"status\"] == \"resolved\":\n",
    "#         response = requests.get(f\"{FINALES}/results/{request_id}\")\n",
    "#         break\n",
    "\n",
    "#     time.sleep(15)\n",
    "\n",
    "# measured_rgb = response.json()[\"data\"][\"rgb-measurement\"]\n",
    "\n",
    "# id, R, G, B = measured_rgb\n",
    "\n",
    "# print(f\"RGB measurement for request {id}: [{R}, {G}, {B}]\")"
   ]
  },
  {
   "cell_type": "code",
   "execution_count": null,
   "id": "6a567d34",
   "metadata": {},
   "outputs": [],
   "source": [
    "TARGET = (35, 137, 94)  # Dark green"
   ]
  },
  {
   "cell_type": "code",
   "execution_count": null,
   "id": "6b3de9d6-320e-411d-8f91-7c4afeee210c",
   "metadata": {},
   "outputs": [],
   "source": [
    "import time\n",
    "\n",
    "\n",
    "request_id = requests.post(\n",
    "    f\"{FINALES}/POST/request\",\n",
    "    json={\n",
    "        \"quantity\": \"RGB-prediction\",\n",
    "        \"methods\": [\n",
    "            \"RGB-optimization\",\n",
    "        ],\n",
    "        \"parameters\": {\n",
    "            \"RGB-optimization\": {\n",
    "                \"R\": TARGET[0],\n",
    "                \"G\": TARGET[1],\n",
    "                \"B\": TARGET[2],\n",
    "                \"n_calls\": 50,\n",
    "            }\n",
    "        },\n",
    "    },\n",
    "    headers=headers,\n",
    ")\n",
    "\n",
    "while True:\n",
    "    response = requests.get(f\"{FINALES}/GET/requests/{request_id}\")\n",
    "\n",
    "    if response.json()[\"status\"] == \"resolved\":\n",
    "        response = requests.get(f\"{FINALES}/GET/results/{request_id}\")\n",
    "        break\n",
    "\n",
    "    time.sleep(15)\n",
    "\n",
    "predicted_rgb = response.json()[\"data\"][\"rgb-prediction\"]\n",
    "\n",
    "id, minimum, cost = predicted_rgb\n",
    "\n",
    "print(\n",
    "    (\n",
    "        \"Predicted RGB:\",\n",
    "        f\"  target: {TARGET}\",\n",
    "        f\"  predicted: {minimum}\",\n",
    "        f\"  cost: {cost}\",\n",
    "    )\n",
    ")"
   ]
  }
 ],
 "metadata": {
  "kernelspec": {
   "display_name": "finales",
   "language": "python",
   "name": "python3"
  },
  "language_info": {
   "codemirror_mode": {
    "name": "ipython",
    "version": 3
   },
   "file_extension": ".py",
   "mimetype": "text/x-python",
   "name": "python",
   "nbconvert_exporter": "python",
   "pygments_lexer": "ipython3",
   "version": "3.10.15"
  }
 },
 "nbformat": 4,
 "nbformat_minor": 5
}
